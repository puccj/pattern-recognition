{
 "cells": [
  {
   "cell_type": "markdown",
   "metadata": {},
   "source": [
    "# Create all data"
   ]
  },
  {
   "cell_type": "code",
   "execution_count": null,
   "metadata": {},
   "outputs": [],
   "source": [
    "# Copy all data to the same directory\n",
    "\n",
    "import os\n",
    "import shutil\n",
    "\n",
    "# Source directory containing subdirectories with files\n",
    "source_dir = 'osfstorage-archive/dataset-verse19validation/rawdata'\n",
    "\n",
    "# Destination directory where you want to copy all files\n",
    "destination_dir = 'all_data'\n",
    "\n",
    "# Create the destination directory if it doesn't exist\n",
    "if not os.path.exists(destination_dir):\n",
    "    os.makedirs(destination_dir)\n",
    "\n",
    "# Walk through all subdirectories and files in the source directory\n",
    "for root, dirs, files in os.walk(source_dir):\n",
    "    for file in files:\n",
    "        # Construct full file path\n",
    "        file_path = os.path.join(root, file)\n",
    "        \n",
    "        # Copy file to destination directory\n",
    "        shutil.copy(file_path, destination_dir)\n",
    "\n",
    "print('All files have been copied successfully.')"
   ]
  },
  {
   "cell_type": "code",
   "execution_count": 2,
   "metadata": {},
   "outputs": [
    {
     "name": "stdout",
     "output_type": "stream",
     "text": [
      "All files ending with \"Zone.Identifier\" have been removed.\n"
     ]
    }
   ],
   "source": [
    "# Remove *:Zone.Identifier files\n",
    "\n",
    "import os\n",
    "import glob\n",
    "\n",
    "# Directory containing the files\n",
    "target_dir = 'rawdata'\n",
    "\n",
    "# File suffix to remove (e.g., '.txt', '.log')\n",
    "file_suffix = 'Zone.Identifier'\n",
    "\n",
    "# Get a list of all files in the directory with the specified suffix\n",
    "files_to_remove = glob.glob(os.path.join(target_dir, f'*{file_suffix}'))\n",
    "\n",
    "# Remove each file\n",
    "for file_path in files_to_remove:\n",
    "    os.remove(file_path)\n",
    "\n",
    "print(f'All files ending with \"{file_suffix}\" have been removed.')"
   ]
  },
  {
   "cell_type": "code",
   "execution_count": null,
   "metadata": {},
   "outputs": [
    {
     "name": "stdout",
     "output_type": "stream",
     "text": [
      "All files have been renamed with the prefix.\n"
     ]
    }
   ],
   "source": [
    "# Add CT_ prefix\n",
    "\n",
    "import os\n",
    "\n",
    "# Directory containing the files\n",
    "directory = 'data/all_rawdata'\n",
    "prefix = 'CT_'\n",
    "\n",
    "# Iterate over all files in the directory\n",
    "for filename in os.listdir(directory):\n",
    "    # Construct full file path\n",
    "    file_path = os.path.join(directory, filename)\n",
    "    \n",
    "    # Ensure it's a file and not a directory\n",
    "    if os.path.isfile(file_path):\n",
    "        # Create new file name with prefix\n",
    "        new_filename = prefix + filename\n",
    "        new_file_path = os.path.join(directory, new_filename)\n",
    "        \n",
    "        # Rename the file\n",
    "        os.rename(file_path, new_file_path)\n",
    "\n",
    "print('All files have been renamed with the prefix.')"
   ]
  },
  {
   "cell_type": "markdown",
   "metadata": {},
   "source": [
    "# Create structured data"
   ]
  },
  {
   "cell_type": "code",
   "execution_count": null,
   "metadata": {},
   "outputs": [],
   "source": [
    "# Remove all the *:Zone.Identifier files\n",
    "\n",
    "import os\n",
    "\n",
    "# Directory containing the files\n",
    "target_dir = 'structured_data'\n",
    "\n",
    "# File suffix to remove (e.g., '.txt')\n",
    "file_suffix = 'Zone.Identifier'\n",
    "\n",
    "# Walk through all subdirectories and files in the target directory\n",
    "for root, dirs, files in os.walk(target_dir):\n",
    "    for file in files:\n",
    "        if file.endswith(file_suffix):\n",
    "            # Construct full file path\n",
    "            file_path = os.path.join(root, file)\n",
    "            \n",
    "            # Remove the file\n",
    "            os.remove(file_path)\n",
    "            print(f'Removed: {file_path}')\n",
    "\n",
    "print(f'All files ending with \"{file_suffix}\" have been removed.')"
   ]
  },
  {
   "cell_type": "code",
   "execution_count": null,
   "metadata": {},
   "outputs": [],
   "source": [
    "# Add CT_ prefix\n",
    "\n",
    "import os\n",
    "\n",
    "# Directory containing the files\n",
    "target_dir = 'structured_data'\n",
    "prefix = 'CT_'\n",
    "\n",
    "# Walk through all subdirectories and files in the target directory\n",
    "for root, dirs, files in os.walk(target_dir):\n",
    "    for file in files:\n",
    "        # Construct full file path\n",
    "        file_path = os.path.join(root, file)\n",
    "        \n",
    "        # Create new file name with prefix\n",
    "        new_filename = prefix + file\n",
    "        new_file_path = os.path.join(root, new_filename)\n",
    "        \n",
    "        # Rename the file\n",
    "        os.rename(file_path, new_file_path)\n",
    "        print(f'Renamed: {file_path} to {new_file_path}')\n",
    "\n",
    "print('All files have been renamed with the prefix.')"
   ]
  }
 ],
 "metadata": {
  "kernelspec": {
   "display_name": "pattern",
   "language": "python",
   "name": "python3"
  },
  "language_info": {
   "codemirror_mode": {
    "name": "ipython",
    "version": 3
   },
   "file_extension": ".py",
   "mimetype": "text/x-python",
   "name": "python",
   "nbconvert_exporter": "python",
   "pygments_lexer": "ipython3",
   "version": "3.10.14"
  }
 },
 "nbformat": 4,
 "nbformat_minor": 2
}
