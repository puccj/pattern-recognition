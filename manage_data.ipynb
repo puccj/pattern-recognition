{
 "cells": [
  {
   "cell_type": "markdown",
   "metadata": {},
   "source": [
    "# Create all data"
   ]
  },
  {
   "cell_type": "code",
   "execution_count": null,
   "metadata": {},
   "outputs": [],
   "source": [
    "# Copy all data to the same directory\n",
    "\n",
    "import os\n",
    "import shutil\n",
    "\n",
    "# Source directory containing subdirectories with files\n",
    "source_dir = 'osfstorage-archive/dataset-verse19validation/rawdata'\n",
    "\n",
    "# Destination directory where you want to copy all files\n",
    "destination_dir = 'all_data'\n",
    "\n",
    "# Create the destination directory if it doesn't exist\n",
    "if not os.path.exists(destination_dir):\n",
    "    os.makedirs(destination_dir)\n",
    "\n",
    "# Walk through all subdirectories and files in the source directory\n",
    "for root, dirs, files in os.walk(source_dir):\n",
    "    for file in files:\n",
    "        # Construct full file path\n",
    "        file_path = os.path.join(root, file)\n",
    "        \n",
    "        # Copy file to destination directory\n",
    "        shutil.copy(file_path, destination_dir)\n",
    "\n",
    "print('All files have been copied successfully.')"
   ]
  },
  {
   "cell_type": "code",
   "execution_count": null,
   "metadata": {},
   "outputs": [],
   "source": [
    "# Remove *:Zone.Identifier files\n",
    "\n",
    "import os\n",
    "import glob\n",
    "\n",
    "# Directory containing the files\n",
    "target_dir = 'rawdata'\n",
    "\n",
    "# File suffix to remove (e.g., '.txt', '.log')\n",
    "file_suffix = 'Zone.Identifier'\n",
    "\n",
    "# Get a list of all files in the directory with the specified suffix\n",
    "files_to_remove = glob.glob(os.path.join(target_dir, f'*{file_suffix}'))\n",
    "\n",
    "# Remove each file\n",
    "for file_path in files_to_remove:\n",
    "    os.remove(file_path)\n",
    "\n",
    "print(f'All files ending with \"{file_suffix}\" have been removed.')"
   ]
  },
  {
   "cell_type": "code",
   "execution_count": null,
   "metadata": {},
   "outputs": [],
   "source": [
    "# Add CT_ prefix\n",
    "\n",
    "import os\n",
    "\n",
    "# Directory containing the files\n",
    "directory = 'data/all_rawdata'\n",
    "prefix = 'CT_'\n",
    "\n",
    "# Iterate over all files in the directory\n",
    "for filename in os.listdir(directory):\n",
    "    # Construct full file path\n",
    "    file_path = os.path.join(directory, filename)\n",
    "    \n",
    "    # Ensure it's a file and not a directory\n",
    "    if os.path.isfile(file_path):\n",
    "        # Create new file name with prefix\n",
    "        new_filename = prefix + filename\n",
    "        new_file_path = os.path.join(directory, new_filename)\n",
    "        \n",
    "        # Rename the file\n",
    "        os.rename(file_path, new_file_path)\n",
    "\n",
    "print('All files have been renamed with the prefix.')"
   ]
  },
  {
   "cell_type": "markdown",
   "metadata": {},
   "source": [
    "# Create structured data"
   ]
  },
  {
   "cell_type": "code",
   "execution_count": null,
   "metadata": {},
   "outputs": [],
   "source": [
    "# Extract all data from training/rawdata, test/rawdata, validation/rawdata into a single folder\n",
    "\n",
    "import os\n",
    "import shutil\n",
    "\n",
    "# Define the base input folder\n",
    "input_folder = 'path/to/input_folder'\n",
    "\n",
    "# Define the base output folder\n",
    "output_folder = 'structured_data'\n",
    "\n",
    "# Create the output folder if it doesn't exist\n",
    "os.makedirs(output_folder, exist_ok=True)\n",
    "\n",
    "# List of subdirectories to search in\n",
    "subdirectories = ['dataset-verse19test/rawdata', 'dataset-verse19training/rawdata', 'dataset-verse19validation/rawdata']\n",
    "\n",
    "# Function to copy folders\n",
    "def copy_folders(src, dest):\n",
    "    for root, dirs, files in os.walk(src):\n",
    "        for dir in dirs:\n",
    "            src_dir = os.path.join(root, dir)\n",
    "            dest_dir = os.path.join(dest, dir)\n",
    "            shutil.copytree(src_dir, dest_dir, dirs_exist_ok=True)\n",
    "            print(f'Copied {src_dir} to {dest_dir}')\n",
    "\n",
    "# Copy the contents of each subdirectory to the output folder\n",
    "for subdir in subdirectories:\n",
    "    src_dir = os.path.join(input_folder, subdir)\n",
    "    copy_folders(src_dir, output_folder)\n",
    "\n",
    "print(f'All folders have been copied to {output_folder}')\n",
    "\n"
   ]
  },
  {
   "cell_type": "code",
   "execution_count": null,
   "metadata": {},
   "outputs": [],
   "source": [
    "# Remove all the *:Zone.Identifier files\n",
    "\n",
    "import os\n",
    "\n",
    "# Directory containing the files\n",
    "target_dir = 'moose_run1'\n",
    "\n",
    "# File suffix to remove (e.g., '.txt')\n",
    "file_suffix = 'Zone.Identifier'\n",
    "\n",
    "# Walk through all subdirectories and files in the target directory\n",
    "for root, dirs, files in os.walk(target_dir):\n",
    "    for file in files:\n",
    "        if file.endswith(file_suffix):\n",
    "            # Construct full file path\n",
    "            file_path = os.path.join(root, file)\n",
    "            \n",
    "            # Remove the file\n",
    "            os.remove(file_path)\n",
    "            print(f'Removed: {file_path}')\n",
    "\n",
    "print(f'All files ending with \"{file_suffix}\" have been removed.')"
   ]
  },
  {
   "cell_type": "code",
   "execution_count": null,
   "metadata": {},
   "outputs": [],
   "source": [
    "# Add CT_ prefix\n",
    "\n",
    "import os\n",
    "\n",
    "# Directory containing the files\n",
    "target_dir = 'structured_data'\n",
    "prefix = 'CT_'\n",
    "\n",
    "# Walk through all subdirectories and files in the target directory\n",
    "for root, dirs, files in os.walk(target_dir):\n",
    "    for file in files:\n",
    "        # Construct full file path\n",
    "        file_path = os.path.join(root, file)\n",
    "        \n",
    "        # Create new file name with prefix\n",
    "        new_filename = prefix + file\n",
    "        new_file_path = os.path.join(root, new_filename)\n",
    "        \n",
    "        # Rename the file\n",
    "        os.rename(file_path, new_file_path)\n",
    "        print(f'Renamed: {file_path} to {new_file_path}')\n",
    "\n",
    "print('All files have been renamed with the prefix.')"
   ]
  },
  {
   "cell_type": "markdown",
   "metadata": {},
   "source": [
    "# Remove a prefix from files"
   ]
  },
  {
   "cell_type": "code",
   "execution_count": null,
   "metadata": {},
   "outputs": [],
   "source": [
    "import os\n",
    "\n",
    "# Define the base directory containing the folders\n",
    "base_directory = 'moose_test2'\n",
    "prefix_to_remove = \"yes_\"\n",
    "\n",
    "length = len(prefix_to_remove)\n",
    "\n",
    "# Function to rename files by removing the \"yes_\" prefix\n",
    "def rename_files(directory):\n",
    "    for root, dirs, files in os.walk(directory):\n",
    "        for file in files:\n",
    "            if file.startswith(prefix_to_remove):\n",
    "                old_file_path = os.path.join(root, file)\n",
    "                new_file_name = file[length:]  # Remove the prefix\n",
    "                new_file_path = os.path.join(root, new_file_name)\n",
    "                os.rename(old_file_path, new_file_path)\n",
    "                print(f'Renamed {old_file_path} to {new_file_path}')\n",
    "\n",
    "# Call the function to rename the files\n",
    "rename_files(base_directory)\n",
    "\n",
    "print(f'All files with {prefix_to_remove} prefix have been renamed.')\n"
   ]
  },
  {
   "cell_type": "markdown",
   "metadata": {},
   "source": [
    "# Add a prefix to the files that starts with a certain condition"
   ]
  },
  {
   "cell_type": "code",
   "execution_count": null,
   "metadata": {},
   "outputs": [],
   "source": [
    "import os\n",
    "\n",
    "# Define the base directory containing the folders\n",
    "base_directory = 'moose_test2'\n",
    "prefix_to_add = \"CT_su\"\n",
    "prefix_conditions = \"b\"\n",
    "\n",
    "# Function to rename files by adding the \"yes_\" prefix\n",
    "def rename_files(directory):\n",
    "    for root, dirs, files in os.walk(directory):\n",
    "        for file in files:\n",
    "            if file.startswith(\"b\"):\n",
    "                old_file_path = os.path.join(root, file)\n",
    "                new_file_name = prefix_to_add + file  # Add the \"yes_\" prefix\n",
    "                new_file_path = os.path.join(root, new_file_name)\n",
    "                os.rename(old_file_path, new_file_path)\n",
    "                print(f'Renamed {old_file_path} to {new_file_path}')\n",
    "\n",
    "# Call the function to rename the files\n",
    "rename_files(base_directory)\n",
    "\n",
    "print(f'All files with {prefix_conditions} prefix have been renamed.')\n"
   ]
  },
  {
   "cell_type": "markdown",
   "metadata": {},
   "source": [
    "# Copy only the \"no_\" files"
   ]
  },
  {
   "cell_type": "code",
   "execution_count": null,
   "metadata": {},
   "outputs": [],
   "source": [
    "import os\n",
    "import shutil\n",
    "\n",
    "input_dir = 'data/yesno_backup'\n",
    "output_dir = 'moose_test2'\n",
    "prefix = \"no_\"\n",
    "\n",
    "# Create the destination directory if it does not exist\n",
    "if not os.path.exists(output_dir):\n",
    "    os.makedirs(output_dir)\n",
    "\n",
    "# Traverse the source directory\n",
    "for root, dirs, files in os.walk(input_dir):\n",
    "    for dir_name in dirs:\n",
    "        dir_path = os.path.join(root, dir_name)\n",
    "        files_in_dir = os.listdir(dir_path)\n",
    "        \n",
    "        # Check if any file starts with \"no_\"\n",
    "        if any(file.startswith(prefix) for file in files_in_dir):\n",
    "            dest_dir_path = os.path.join(output_dir, dir_name)\n",
    "            \n",
    "            # Copy the entire directory to the destination\n",
    "            shutil.copytree(dir_path, dest_dir_path)\n",
    "            print(f\"Copied {dir_path} to {dest_dir_path}\")"
   ]
  },
  {
   "cell_type": "markdown",
   "metadata": {},
   "source": [
    "# Rotate all the images in a folder"
   ]
  },
  {
   "cell_type": "code",
   "execution_count": 6,
   "metadata": {},
   "outputs": [],
   "source": [
    "import os\n",
    "import SimpleITK as sitk\n",
    "\n",
    "directory = 'moose_test2'\n",
    "\n",
    "for root, dirs, files in os.walk(directory):\n",
    "    for file in files:\n",
    "        image = sitk.ReadImage(root + '/' + file)\n",
    "        image.SetDirection((1.0, 0.0, 0.0, 0.0, -1.0, 0.0, 0.0, 0.0, 1.0))\n",
    "        sitk.WriteImage(image, root + '/' + file)\n"
   ]
  }
 ],
 "metadata": {
  "kernelspec": {
   "display_name": "pattern",
   "language": "python",
   "name": "python3"
  },
  "language_info": {
   "codemirror_mode": {
    "name": "ipython",
    "version": 3
   },
   "file_extension": ".py",
   "mimetype": "text/x-python",
   "name": "python",
   "nbconvert_exporter": "python",
   "pygments_lexer": "ipython3",
   "version": "3.10.14"
  }
 },
 "nbformat": 4,
 "nbformat_minor": 2
}
