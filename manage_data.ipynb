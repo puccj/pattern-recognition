{
 "cells": [
  {
   "cell_type": "markdown",
   "metadata": {},
   "source": [
    "# Create all data"
   ]
  },
  {
   "cell_type": "code",
   "execution_count": null,
   "metadata": {},
   "outputs": [],
   "source": [
    "# Copy all data to the same directory\n",
    "\n",
    "import os\n",
    "import shutil\n",
    "\n",
    "# Source directory containing subdirectories with files\n",
    "source_dir = 'osfstorage-archive/dataset-verse19validation/rawdata'\n",
    "\n",
    "# Destination directory where you want to copy all files\n",
    "destination_dir = 'all_data'\n",
    "\n",
    "# Create the destination directory if it doesn't exist\n",
    "if not os.path.exists(destination_dir):\n",
    "    os.makedirs(destination_dir)\n",
    "\n",
    "# Walk through all subdirectories and files in the source directory\n",
    "for root, dirs, files in os.walk(source_dir):\n",
    "    for file in files:\n",
    "        # Construct full file path\n",
    "        file_path = os.path.join(root, file)\n",
    "        \n",
    "        # Copy file to destination directory\n",
    "        shutil.copy(file_path, destination_dir)\n",
    "\n",
    "print('All files have been copied successfully.')"
   ]
  },
  {
   "cell_type": "code",
   "execution_count": 2,
   "metadata": {},
   "outputs": [
    {
     "name": "stdout",
     "output_type": "stream",
     "text": [
      "All files ending with \"Zone.Identifier\" have been removed.\n"
     ]
    }
   ],
   "source": [
    "# Remove *:Zone.Identifier files\n",
    "\n",
    "import os\n",
    "import glob\n",
    "\n",
    "# Directory containing the files\n",
    "target_dir = 'rawdata'\n",
    "\n",
    "# File suffix to remove (e.g., '.txt', '.log')\n",
    "file_suffix = 'Zone.Identifier'\n",
    "\n",
    "# Get a list of all files in the directory with the specified suffix\n",
    "files_to_remove = glob.glob(os.path.join(target_dir, f'*{file_suffix}'))\n",
    "\n",
    "# Remove each file\n",
    "for file_path in files_to_remove:\n",
    "    os.remove(file_path)\n",
    "\n",
    "print(f'All files ending with \"{file_suffix}\" have been removed.')"
   ]
  },
  {
   "cell_type": "code",
   "execution_count": null,
   "metadata": {},
   "outputs": [
    {
     "name": "stdout",
     "output_type": "stream",
     "text": [
      "All files have been renamed with the prefix.\n"
     ]
    }
   ],
   "source": [
    "# Add CT_ prefix\n",
    "\n",
    "import os\n",
    "\n",
    "# Directory containing the files\n",
    "directory = 'data/all_rawdata'\n",
    "prefix = 'CT_'\n",
    "\n",
    "# Iterate over all files in the directory\n",
    "for filename in os.listdir(directory):\n",
    "    # Construct full file path\n",
    "    file_path = os.path.join(directory, filename)\n",
    "    \n",
    "    # Ensure it's a file and not a directory\n",
    "    if os.path.isfile(file_path):\n",
    "        # Create new file name with prefix\n",
    "        new_filename = prefix + filename\n",
    "        new_file_path = os.path.join(directory, new_filename)\n",
    "        \n",
    "        # Rename the file\n",
    "        os.rename(file_path, new_file_path)\n",
    "\n",
    "print('All files have been renamed with the prefix.')"
   ]
  },
  {
   "cell_type": "markdown",
   "metadata": {},
   "source": [
    "# Create structured data"
   ]
  },
  {
   "cell_type": "code",
   "execution_count": null,
   "metadata": {},
   "outputs": [],
   "source": [
    "# Extract all data from training/rawdata, test/rawdata, validation/rawdata into a single folder\n",
    "\n",
    "import os\n",
    "import shutil\n",
    "\n",
    "# Define the base input folder\n",
    "input_folder = 'path/to/input_folder'\n",
    "\n",
    "# Define the base output folder\n",
    "output_folder = 'structured_data'\n",
    "\n",
    "# Create the output folder if it doesn't exist\n",
    "os.makedirs(output_folder, exist_ok=True)\n",
    "\n",
    "# List of subdirectories to search in\n",
    "subdirectories = ['dataset-verse19test/rawdata', 'dataset-verse19training/rawdata', 'dataset-verse19validation/rawdata']\n",
    "\n",
    "# Function to copy folders\n",
    "def copy_folders(src, dest):\n",
    "    for root, dirs, files in os.walk(src):\n",
    "        for dir in dirs:\n",
    "            src_dir = os.path.join(root, dir)\n",
    "            dest_dir = os.path.join(dest, dir)\n",
    "            shutil.copytree(src_dir, dest_dir, dirs_exist_ok=True)\n",
    "            print(f'Copied {src_dir} to {dest_dir}')\n",
    "\n",
    "# Copy the contents of each subdirectory to the output folder\n",
    "for subdir in subdirectories:\n",
    "    src_dir = os.path.join(input_folder, subdir)\n",
    "    copy_folders(src_dir, output_folder)\n",
    "\n",
    "print(f'All folders have been copied to {output_folder}')\n",
    "\n"
   ]
  },
  {
   "cell_type": "code",
   "execution_count": null,
   "metadata": {},
   "outputs": [],
   "source": [
    "# Remove all the *:Zone.Identifier files\n",
    "\n",
    "import os\n",
    "\n",
    "# Directory containing the files\n",
    "target_dir = 'structured_data'\n",
    "\n",
    "# File suffix to remove (e.g., '.txt')\n",
    "file_suffix = 'Zone.Identifier'\n",
    "\n",
    "# Walk through all subdirectories and files in the target directory\n",
    "for root, dirs, files in os.walk(target_dir):\n",
    "    for file in files:\n",
    "        if file.endswith(file_suffix):\n",
    "            # Construct full file path\n",
    "            file_path = os.path.join(root, file)\n",
    "            \n",
    "            # Remove the file\n",
    "            os.remove(file_path)\n",
    "            print(f'Removed: {file_path}')\n",
    "\n",
    "print(f'All files ending with \"{file_suffix}\" have been removed.')"
   ]
  },
  {
   "cell_type": "code",
   "execution_count": null,
   "metadata": {},
   "outputs": [],
   "source": [
    "# Add CT_ prefix\n",
    "\n",
    "import os\n",
    "\n",
    "# Directory containing the files\n",
    "target_dir = 'structured_data'\n",
    "prefix = 'CT_'\n",
    "\n",
    "# Walk through all subdirectories and files in the target directory\n",
    "for root, dirs, files in os.walk(target_dir):\n",
    "    for file in files:\n",
    "        # Construct full file path\n",
    "        file_path = os.path.join(root, file)\n",
    "        \n",
    "        # Create new file name with prefix\n",
    "        new_filename = prefix + file\n",
    "        new_file_path = os.path.join(root, new_filename)\n",
    "        \n",
    "        # Rename the file\n",
    "        os.rename(file_path, new_file_path)\n",
    "        print(f'Renamed: {file_path} to {new_file_path}')\n",
    "\n",
    "print('All files have been renamed with the prefix.')"
   ]
  },
  {
   "cell_type": "markdown",
   "metadata": {},
   "source": [
    "# Remove \"yes_\" from files"
   ]
  },
  {
   "cell_type": "code",
   "execution_count": 1,
   "metadata": {},
   "outputs": [
    {
     "name": "stdout",
     "output_type": "stream",
     "text": [
      "Renamed data/yesno/sub-verse413_split-verse239/yes_CT_sub-verse413_split-verse239_ct.nii.gz to data/yesno/sub-verse413_split-verse239/CT_sub-verse413_split-verse239_ct.nii.gz\n",
      "Renamed data/yesno/sub-verse096/yes_CT_sub-verse096_ct.nii.gz to data/yesno/sub-verse096/CT_sub-verse096_ct.nii.gz\n",
      "Renamed data/yesno/sub-verse271/yes_CT_sub-verse271_ct.nii.gz to data/yesno/sub-verse271/CT_sub-verse271_ct.nii.gz\n",
      "Renamed data/yesno/sub-verse088/yes_CT_sub-verse088_ct.nii.gz to data/yesno/sub-verse088/CT_sub-verse088_ct.nii.gz\n",
      "Renamed data/yesno/sub-verse230/yes_CT_sub-verse230_ct.nii.gz to data/yesno/sub-verse230/CT_sub-verse230_ct.nii.gz\n",
      "Renamed data/yesno/sub-verse097/yes_CT_sub-verse097_ct.nii.gz to data/yesno/sub-verse097/CT_sub-verse097_ct.nii.gz\n",
      "Renamed data/yesno/sub-verse080/yes_CT_sub-verse080_ct.nii.gz to data/yesno/sub-verse080/CT_sub-verse080_ct.nii.gz\n",
      "Renamed data/yesno/sub-verse072/yes_CT_sub-verse072_ct.nii.gz to data/yesno/sub-verse072/CT_sub-verse072_ct.nii.gz\n",
      "Renamed data/yesno/sub-verse408_split-verse265/yes_CT_sub-verse408_split-verse265_ct.nii.gz to data/yesno/sub-verse408_split-verse265/CT_sub-verse408_split-verse265_ct.nii.gz\n",
      "Renamed data/yesno/sub-verse073/yes_CT_sub-verse073_ct.nii.gz to data/yesno/sub-verse073/CT_sub-verse073_ct.nii.gz\n",
      "Renamed data/yesno/sub-verse410_split-verse227/yes_CT_sub-verse410_split-verse227_ct.nii.gz to data/yesno/sub-verse410_split-verse227/CT_sub-verse410_split-verse227_ct.nii.gz\n",
      "Renamed data/yesno/sub-verse051/yes_CT_sub-verse051_ct.nii.gz to data/yesno/sub-verse051/CT_sub-verse051_ct.nii.gz\n",
      "Renamed data/yesno/sub-verse101/yes_CT_sub-verse101_ct.nii.gz to data/yesno/sub-verse101/CT_sub-verse101_ct.nii.gz\n",
      "Renamed data/yesno/sub-verse138/yes_CT_sub-verse138_ct.nii.gz to data/yesno/sub-verse138/CT_sub-verse138_ct.nii.gz\n",
      "Renamed data/yesno/sub-verse225/yes_CT_sub-verse225_ct.nii.gz to data/yesno/sub-verse225/CT_sub-verse225_ct.nii.gz\n",
      "Renamed data/yesno/sub-verse100/yes_CT_sub-verse100_ct.nii.gz to data/yesno/sub-verse100/CT_sub-verse100_ct.nii.gz\n",
      "Renamed data/yesno/sub-verse413_split-verse272/yes_CT_sub-verse413_split-verse272_ct.nii.gz to data/yesno/sub-verse413_split-verse272/CT_sub-verse413_split-verse272_ct.nii.gz\n",
      "Renamed data/yesno/sub-verse105/yes_CT_sub-verse105_ct.nii.gz to data/yesno/sub-verse105/CT_sub-verse105_ct.nii.gz\n",
      "Renamed data/yesno/sub-verse269/yes_CT_sub-verse269_ct.nii.gz to data/yesno/sub-verse269/CT_sub-verse269_ct.nii.gz\n",
      "Renamed data/yesno/sub-verse111/yes_CT_sub-verse111_ct.nii.gz to data/yesno/sub-verse111/CT_sub-verse111_ct.nii.gz\n",
      "Renamed data/yesno/sub-verse130/yes_CT_sub-verse130_ct.nii.gz to data/yesno/sub-verse130/CT_sub-verse130_ct.nii.gz\n",
      "Renamed data/yesno/sub-verse143/yes_CT_sub-verse143_ct.nii.gz to data/yesno/sub-verse143/CT_sub-verse143_ct.nii.gz\n",
      "Renamed data/yesno/sub-verse063/yes_CT_sub-verse063_ct.nii.gz to data/yesno/sub-verse063/CT_sub-verse063_ct.nii.gz\n",
      "Renamed data/yesno/sub-verse116/yes_CT_sub-verse116_ct.nii.gz to data/yesno/sub-verse116/CT_sub-verse116_ct.nii.gz\n",
      "Renamed data/yesno/sub-verse081/yes_CT_sub-verse081_ct.nii.gz to data/yesno/sub-verse081/CT_sub-verse081_ct.nii.gz\n",
      "Renamed data/yesno/sub-verse133/yes_CT_sub-verse133_ct.nii.gz to data/yesno/sub-verse133/CT_sub-verse133_ct.nii.gz\n",
      "Renamed data/yesno/sub-verse071/yes_CT_sub-verse071_ct.nii.gz to data/yesno/sub-verse071/CT_sub-verse071_ct.nii.gz\n",
      "Renamed data/yesno/sub-verse125/yes_CT_sub-verse125_ct.nii.gz to data/yesno/sub-verse125/CT_sub-verse125_ct.nii.gz\n",
      "Renamed data/yesno/sub-verse144/yes_CT_sub-verse144_ct.nii.gz to data/yesno/sub-verse144/CT_sub-verse144_ct.nii.gz\n",
      "Renamed data/yesno/sub-verse411_split-verse232/yes_CT_sub-verse411_split-verse232_ct.nii.gz to data/yesno/sub-verse411_split-verse232/CT_sub-verse411_split-verse232_ct.nii.gz\n",
      "Renamed data/yesno/sub-verse410_split-verse267/yes_CT_sub-verse410_split-verse267_ct.nii.gz to data/yesno/sub-verse410_split-verse267/CT_sub-verse410_split-verse267_ct.nii.gz\n",
      "Renamed data/yesno/sub-verse113/yes_CT_sub-verse113_ct.nii.gz to data/yesno/sub-verse113/CT_sub-verse113_ct.nii.gz\n",
      "Renamed data/yesno/sub-verse412_split-verse290/yes_CT_sub-verse412_split-verse290_ct.nii.gz to data/yesno/sub-verse412_split-verse290/CT_sub-verse412_split-verse290_ct.nii.gz\n",
      "Renamed data/yesno/sub-verse409_split-verse226/yes_CT_sub-verse409_split-verse226_ct.nii.gz to data/yesno/sub-verse409_split-verse226/CT_sub-verse409_split-verse226_ct.nii.gz\n",
      "Renamed data/yesno/sub-verse152/yes_CT_sub-verse152_ct.nii.gz to data/yesno/sub-verse152/CT_sub-verse152_ct.nii.gz\n",
      "Renamed data/yesno/sub-verse102/yes_CT_sub-verse102_ct.nii.gz to data/yesno/sub-verse102/CT_sub-verse102_ct.nii.gz\n",
      "Renamed data/yesno/sub-verse137/yes_CT_sub-verse137_ct.nii.gz to data/yesno/sub-verse137/CT_sub-verse137_ct.nii.gz\n",
      "Renamed data/yesno/sub-verse112/yes_CT_sub-verse112_ct.nii.gz to data/yesno/sub-verse112/CT_sub-verse112_ct.nii.gz\n",
      "Renamed data/yesno/sub-verse124/yes_CT_sub-verse124_ct.nii.gz to data/yesno/sub-verse124/CT_sub-verse124_ct.nii.gz\n",
      "Renamed data/yesno/sub-verse134/yes_CT_sub-verse134_ct.nii.gz to data/yesno/sub-verse134/CT_sub-verse134_ct.nii.gz\n",
      "Renamed data/yesno/sub-verse085/yes_CT_sub-verse085_ct.nii.gz to data/yesno/sub-verse085/CT_sub-verse085_ct.nii.gz\n",
      "Renamed data/yesno/sub-verse147/yes_CT_sub-verse147_ct.nii.gz to data/yesno/sub-verse147/CT_sub-verse147_ct.nii.gz\n",
      "Renamed data/yesno/sub-verse217/yes_CT_sub-verse217_ct.nii.gz to data/yesno/sub-verse217/CT_sub-verse217_ct.nii.gz\n",
      "Renamed data/yesno/sub-verse401_split-verse253/yes_CT_sub-verse401_split-verse253_ct.nii.gz to data/yesno/sub-verse401_split-verse253/CT_sub-verse401_split-verse253_ct.nii.gz\n",
      "Renamed data/yesno/sub-verse107/yes_CT_sub-verse107_ct.nii.gz to data/yesno/sub-verse107/CT_sub-verse107_ct.nii.gz\n",
      "Renamed data/yesno/sub-verse093/yes_CT_sub-verse093_ct.nii.gz to data/yesno/sub-verse093/CT_sub-verse093_ct.nii.gz\n",
      "Renamed data/yesno/sub-verse078/yes_CT_sub-verse078_ct.nii.gz to data/yesno/sub-verse078/CT_sub-verse078_ct.nii.gz\n",
      "Renamed data/yesno/sub-verse149/yes_CT_sub-verse149_ct.nii.gz to data/yesno/sub-verse149/CT_sub-verse149_ct.nii.gz\n",
      "Renamed data/yesno/sub-verse411_split-verse270/yes_CT_sub-verse411_split-verse270_ct.nii.gz to data/yesno/sub-verse411_split-verse270/CT_sub-verse411_split-verse270_ct.nii.gz\n",
      "Renamed data/yesno/sub-verse070/yes_CT_sub-verse070_ct.nii.gz to data/yesno/sub-verse070/CT_sub-verse070_ct.nii.gz\n",
      "Renamed data/yesno/sub-verse127/yes_CT_sub-verse127_ct.nii.gz to data/yesno/sub-verse127/CT_sub-verse127_ct.nii.gz\n",
      "Renamed data/yesno/sub-verse146/yes_CT_sub-verse146_ct.nii.gz to data/yesno/sub-verse146/CT_sub-verse146_ct.nii.gz\n",
      "Renamed data/yesno/sub-verse151/yes_CT_sub-verse151_ct.nii.gz to data/yesno/sub-verse151/CT_sub-verse151_ct.nii.gz\n",
      "Renamed data/yesno/sub-verse150/yes_CT_sub-verse150_ct.nii.gz to data/yesno/sub-verse150/CT_sub-verse150_ct.nii.gz\n",
      "Renamed data/yesno/sub-verse122/yes_CT_sub-verse122_ct.nii.gz to data/yesno/sub-verse122/CT_sub-verse122_ct.nii.gz\n",
      "Renamed data/yesno/sub-verse022/yes_CT_sub-verse022_ct.nii.gz to data/yesno/sub-verse022/CT_sub-verse022_ct.nii.gz\n",
      "Renamed data/yesno/sub-verse075/yes_CT_sub-verse075_ct.nii.gz to data/yesno/sub-verse075/CT_sub-verse075_ct.nii.gz\n",
      "Renamed data/yesno/sub-verse412_split-verse235/yes_CT_sub-verse412_split-verse235_ct.nii.gz to data/yesno/sub-verse412_split-verse235/CT_sub-verse412_split-verse235_ct.nii.gz\n",
      "Renamed data/yesno/sub-verse408_split-verse223/yes_CT_sub-verse408_split-verse223_ct.nii.gz to data/yesno/sub-verse408_split-verse223/CT_sub-verse408_split-verse223_ct.nii.gz\n",
      "Renamed data/yesno/sub-verse221/yes_CT_sub-verse221_ct.nii.gz to data/yesno/sub-verse221/CT_sub-verse221_ct.nii.gz\n",
      "Renamed data/yesno/sub-verse104/yes_CT_sub-verse104_ct.nii.gz to data/yesno/sub-verse104/CT_sub-verse104_ct.nii.gz\n",
      "Renamed data/yesno/sub-verse409_split-verse266/yes_CT_sub-verse409_split-verse266_ct.nii.gz to data/yesno/sub-verse409_split-verse266/CT_sub-verse409_split-verse266_ct.nii.gz\n",
      "All files with the \"yes_\" prefix have been renamed.\n"
     ]
    }
   ],
   "source": [
    "import os\n",
    "\n",
    "# Define the base directory containing the folders\n",
    "base_directory = 'data/yesno'\n",
    "\n",
    "# Function to rename files by removing the \"yes_\" prefix\n",
    "def rename_files(directory):\n",
    "    for root, dirs, files in os.walk(directory):\n",
    "        for file in files:\n",
    "            if file.startswith(\"yes_\"):\n",
    "                old_file_path = os.path.join(root, file)\n",
    "                new_file_name = file[4:]  # Remove the \"yes_\" prefix\n",
    "                new_file_path = os.path.join(root, new_file_name)\n",
    "                os.rename(old_file_path, new_file_path)\n",
    "                print(f'Renamed {old_file_path} to {new_file_path}')\n",
    "\n",
    "# Call the function to rename the files\n",
    "rename_files(base_directory)\n",
    "\n",
    "print('All files with the \"yes_\" prefix have been renamed.')\n"
   ]
  }
 ],
 "metadata": {
  "kernelspec": {
   "display_name": "pattern",
   "language": "python",
   "name": "python3"
  },
  "language_info": {
   "codemirror_mode": {
    "name": "ipython",
    "version": 3
   },
   "file_extension": ".py",
   "mimetype": "text/x-python",
   "name": "python",
   "nbconvert_exporter": "python",
   "pygments_lexer": "ipython3",
   "version": "3.10.14"
  }
 },
 "nbformat": 4,
 "nbformat_minor": 2
}
